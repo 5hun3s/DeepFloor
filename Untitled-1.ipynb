{
 "cells": [
  {
   "cell_type": "code",
   "execution_count": null,
   "metadata": {},
   "outputs": [
    {
     "ename": "",
     "evalue": "",
     "output_type": "error",
     "traceback": [
      "\u001b[1;31m'DeepFloor-yc0NMJc7' でセルを実行するには、 ipykernel パッケージが必要です。\n",
      "\u001b[1;31mRun the following command to install 'ipykernel' into the Python environment. \n",
      "\u001b[1;31mCommand: 'c:/Users/socce/.virtualenvs/DeepFloor-yc0NMJc7/Scripts/python.exe -m pip install ipykernel -U --force-reinstall'"
     ]
    }
   ],
   "source": [
    "import pandas as pd\n",
    "\n",
    "def transform_data(df):\n",
    "    # The DataFrame df should have columns: 'name', 'exist', 'x', 'y', 'rotation', and possibly others.\n",
    "    \n",
    "    # Use groupby to group the DataFrame by 'name' column, and then use agg to create new columns.\n",
    "    df = df.groupby('name').agg({\n",
    "        'exist': lambda x: pd.Series(list(x)),\n",
    "        'x': lambda x: pd.Series(list(x)),\n",
    "        'y': lambda x: pd.Series(list(x)),\n",
    "        'rotation': lambda x: pd.Series(list(x)),\n",
    "        # If there are other columns, add them here.\n",
    "    })\n",
    "    \n",
    "    # Rename the columns so they are unique.\n",
    "    df.columns = [f'{col}_{i}' for col in df.columns for i in range(len(df[col][0]))]\n",
    "    \n",
    "    # Reset the index to make 'name' a regular column again.\n",
    "    df = df.reset_index()\n",
    "    \n",
    "    return df\n",
    "\n",
    "\n",
    "df = pd.read_csv(f\"\"\"{os.getcwd()}/dataset/room_info.csv\"\"\")  # CSVファイルを読み込みます\n",
    "df_reform = transform_data(df)  # 関数を呼び出してデータフレームを変換します\n",
    "display(df_reform)\n",
    "df_reform.to_csv(f\"\"\"{os.getcwd()}/dataset/room_info_reform.csv\"\"\", index=False)  # 新しいデータフレームを表示します\n"
   ]
  },
  {
   "cell_type": "code",
   "execution_count": null,
   "metadata": {},
   "outputs": [],
   "source": []
  }
 ],
 "metadata": {
  "kernelspec": {
   "display_name": "DeepFloor-yc0NMJc7",
   "language": "python",
   "name": "python3"
  },
  "language_info": {
   "name": "python",
   "version": "3.10.9"
  },
  "orig_nbformat": 4
 },
 "nbformat": 4,
 "nbformat_minor": 2
}
