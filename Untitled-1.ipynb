{
 "cells": [
  {
   "cell_type": "code",
   "execution_count": 6,
   "metadata": {},
   "outputs": [
    {
     "ename": "IndexError",
     "evalue": "tuple index out of range",
     "output_type": "error",
     "traceback": [
      "\u001b[1;31m---------------------------------------------------------------------------\u001b[0m",
      "\u001b[1;31mIndexError\u001b[0m                                Traceback (most recent call last)",
      "Cell \u001b[1;32mIn[6], line 13\u001b[0m\n\u001b[0;32m     10\u001b[0m     \u001b[39mreturn\u001b[39;00m pd\u001b[39m.\u001b[39mDataFrame(new_data, columns\u001b[39m=\u001b[39m[\u001b[39m'\u001b[39m\u001b[39mname\u001b[39m\u001b[39m'\u001b[39m, \u001b[39m'\u001b[39m\u001b[39mexist\u001b[39m\u001b[39m'\u001b[39m, \u001b[39m'\u001b[39m\u001b[39mx\u001b[39m\u001b[39m'\u001b[39m, \u001b[39m'\u001b[39m\u001b[39my\u001b[39m\u001b[39m'\u001b[39m, \u001b[39m'\u001b[39m\u001b[39mrotation\u001b[39m\u001b[39m'\u001b[39m])\n\u001b[0;32m     12\u001b[0m df \u001b[39m=\u001b[39m pd\u001b[39m.\u001b[39mread_csv(\u001b[39mf\u001b[39m\u001b[39m\"\u001b[39m\u001b[39m{\u001b[39;00mos\u001b[39m.\u001b[39mgetcwd()\u001b[39m}\u001b[39;00m\u001b[39m/dataset/room_info.csv\u001b[39m\u001b[39m\"\u001b[39m)\n\u001b[1;32m---> 13\u001b[0m df_transformed \u001b[39m=\u001b[39m transform_data(df)\n\u001b[0;32m     14\u001b[0m display(df_transformed)\n\u001b[0;32m     15\u001b[0m df_transformed\u001b[39m.\u001b[39mto_csv(\u001b[39mf\u001b[39m\u001b[39m\"\u001b[39m\u001b[39m{\u001b[39;00mos\u001b[39m.\u001b[39mgetcwd()\u001b[39m}\u001b[39;00m\u001b[39m/dataset/room_info_transformed.csv\u001b[39m\u001b[39m\"\u001b[39m, index\u001b[39m=\u001b[39m\u001b[39mFalse\u001b[39;00m)\n",
      "Cell \u001b[1;32mIn[6], line 8\u001b[0m, in \u001b[0;36mtransform_data\u001b[1;34m(df)\u001b[0m\n\u001b[0;32m      6\u001b[0m \u001b[39mfor\u001b[39;00m row \u001b[39min\u001b[39;00m df\u001b[39m.\u001b[39mitertuples(index\u001b[39m=\u001b[39m\u001b[39mFalse\u001b[39;00m):\n\u001b[0;32m      7\u001b[0m     \u001b[39mfor\u001b[39;00m i \u001b[39min\u001b[39;00m \u001b[39mrange\u001b[39m(\u001b[39m0\u001b[39m, \u001b[39mlen\u001b[39m(row), \u001b[39m5\u001b[39m):  \u001b[39m# 5つの属性ごとにイテレート\u001b[39;00m\n\u001b[1;32m----> 8\u001b[0m         \u001b[39mif\u001b[39;00m row[i\u001b[39m+\u001b[39;49m\u001b[39m1\u001b[39;49m]:  \u001b[39m# existが1ならデータを追加\u001b[39;00m\n\u001b[0;32m      9\u001b[0m             new_data\u001b[39m.\u001b[39mappend([row[i], row[i\u001b[39m+\u001b[39m\u001b[39m1\u001b[39m], row[i\u001b[39m+\u001b[39m\u001b[39m2\u001b[39m], row[i\u001b[39m+\u001b[39m\u001b[39m3\u001b[39m], row[i\u001b[39m+\u001b[39m\u001b[39m4\u001b[39m]])\n\u001b[0;32m     10\u001b[0m \u001b[39mreturn\u001b[39;00m pd\u001b[39m.\u001b[39mDataFrame(new_data, columns\u001b[39m=\u001b[39m[\u001b[39m'\u001b[39m\u001b[39mname\u001b[39m\u001b[39m'\u001b[39m, \u001b[39m'\u001b[39m\u001b[39mexist\u001b[39m\u001b[39m'\u001b[39m, \u001b[39m'\u001b[39m\u001b[39mx\u001b[39m\u001b[39m'\u001b[39m, \u001b[39m'\u001b[39m\u001b[39my\u001b[39m\u001b[39m'\u001b[39m, \u001b[39m'\u001b[39m\u001b[39mrotation\u001b[39m\u001b[39m'\u001b[39m])\n",
      "\u001b[1;31mIndexError\u001b[0m: tuple index out of range"
     ]
    }
   ],
   "source": [
    "import pandas as pd\n",
    "import os\n",
    "\n",
    "def transform_data(df):\n",
    "    new_data = []\n",
    "    for row in df.itertuples(index=False):\n",
    "        for i in range(0, len(row), 5):  # 5つの属性ごとにイテレート\n",
    "            if row[i+1]:  # existが1ならデータを追加\n",
    "                new_data.append([row[i], row[i+1], row[i+2], row[i+3], row[i+4]])\n",
    "    return pd.DataFrame(new_data, columns=['name', 'exist', 'x', 'y', 'rotation'])\n",
    "\n",
    "df = pd.read_csv(f\"{os.getcwd()}/dataset/room_info.csv\")\n",
    "df_transformed = transform_data(df)\n",
    "display(df_transformed)\n",
    "df_transformed.to_csv(f\"{os.getcwd()}/dataset/room_info_transformed.csv\", index=False)\n"
   ]
  },
  {
   "cell_type": "code",
   "execution_count": null,
   "metadata": {},
   "outputs": [],
   "source": []
  }
 ],
 "metadata": {
  "kernelspec": {
   "display_name": "DeepFloor-yc0NMJc7",
   "language": "python",
   "name": "python3"
  },
  "language_info": {
   "codemirror_mode": {
    "name": "ipython",
    "version": 3
   },
   "file_extension": ".py",
   "mimetype": "text/x-python",
   "name": "python",
   "nbconvert_exporter": "python",
   "pygments_lexer": "ipython3",
   "version": "3.10.9"
  },
  "orig_nbformat": 4
 },
 "nbformat": 4,
 "nbformat_minor": 2
}
